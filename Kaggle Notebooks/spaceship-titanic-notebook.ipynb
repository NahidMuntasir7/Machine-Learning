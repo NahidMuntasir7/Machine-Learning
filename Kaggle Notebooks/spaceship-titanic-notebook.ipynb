{
 "cells": [
  {
   "cell_type": "code",
   "execution_count": 1,
   "id": "1474794b",
   "metadata": {
    "_cell_guid": "b1076dfc-b9ad-4769-8c92-a6c4dae69d19",
    "_uuid": "8f2839f25d086af736a60e9eeb907d3b93b6e0e5",
    "execution": {
     "iopub.execute_input": "2024-08-20T14:46:15.532379Z",
     "iopub.status.busy": "2024-08-20T14:46:15.531962Z",
     "iopub.status.idle": "2024-08-20T14:46:15.548942Z",
     "shell.execute_reply": "2024-08-20T14:46:15.547586Z"
    },
    "papermill": {
     "duration": 0.026311,
     "end_time": "2024-08-20T14:46:15.551677",
     "exception": false,
     "start_time": "2024-08-20T14:46:15.525366",
     "status": "completed"
    },
    "tags": []
   },
   "outputs": [
    {
     "name": "stdout",
     "output_type": "stream",
     "text": [
      "/kaggle/input/spaceship-titanic/sample_submission.csv\n",
      "/kaggle/input/spaceship-titanic/train.csv\n",
      "/kaggle/input/spaceship-titanic/test.csv\n"
     ]
    }
   ],
   "source": [
    "import os\n",
    "for dirname, _, filenames in os.walk('/kaggle/input'):\n",
    "    for filename in filenames:\n",
    "        print(os.path.join(dirname, filename))\n"
   ]
  },
  {
   "cell_type": "code",
   "execution_count": 2,
   "id": "c58b85fc",
   "metadata": {
    "execution": {
     "iopub.execute_input": "2024-08-20T14:46:15.562936Z",
     "iopub.status.busy": "2024-08-20T14:46:15.562553Z",
     "iopub.status.idle": "2024-08-20T14:46:17.915061Z",
     "shell.execute_reply": "2024-08-20T14:46:17.913774Z"
    },
    "papermill": {
     "duration": 2.361433,
     "end_time": "2024-08-20T14:46:17.918000",
     "exception": false,
     "start_time": "2024-08-20T14:46:15.556567",
     "status": "completed"
    },
    "tags": []
   },
   "outputs": [],
   "source": [
    "# Importing necessary libraries\n",
    "import pandas as pd\n",
    "import numpy as np\n",
    "from sklearn.preprocessing import OrdinalEncoder\n",
    "from sklearn.model_selection import train_test_split\n",
    "\n",
    "\n",
    "import warnings\n",
    "warnings.filterwarnings('ignore')"
   ]
  },
  {
   "cell_type": "code",
   "execution_count": 3,
   "id": "d8ff104a",
   "metadata": {
    "execution": {
     "iopub.execute_input": "2024-08-20T14:46:17.929318Z",
     "iopub.status.busy": "2024-08-20T14:46:17.928739Z",
     "iopub.status.idle": "2024-08-20T14:46:17.997459Z",
     "shell.execute_reply": "2024-08-20T14:46:17.996243Z"
    },
    "papermill": {
     "duration": 0.077759,
     "end_time": "2024-08-20T14:46:18.000416",
     "exception": false,
     "start_time": "2024-08-20T14:46:17.922657",
     "status": "completed"
    },
    "tags": []
   },
   "outputs": [],
   "source": [
    "# Load the train and test dataset\n",
    "data = pd.read_csv('/kaggle/input/spaceship-titanic/train.csv')"
   ]
  },
  {
   "cell_type": "code",
   "execution_count": 4,
   "id": "5a42146c",
   "metadata": {
    "execution": {
     "iopub.execute_input": "2024-08-20T14:46:18.011451Z",
     "iopub.status.busy": "2024-08-20T14:46:18.010899Z",
     "iopub.status.idle": "2024-08-20T14:46:18.019949Z",
     "shell.execute_reply": "2024-08-20T14:46:18.018738Z"
    },
    "papermill": {
     "duration": 0.0174,
     "end_time": "2024-08-20T14:46:18.022462",
     "exception": false,
     "start_time": "2024-08-20T14:46:18.005062",
     "status": "completed"
    },
    "tags": []
   },
   "outputs": [
    {
     "data": {
      "text/plain": [
       "(8693, 14)"
      ]
     },
     "execution_count": 4,
     "metadata": {},
     "output_type": "execute_result"
    }
   ],
   "source": [
    "data.shape"
   ]
  },
  {
   "cell_type": "code",
   "execution_count": 5,
   "id": "f4775e9d",
   "metadata": {
    "execution": {
     "iopub.execute_input": "2024-08-20T14:46:18.033907Z",
     "iopub.status.busy": "2024-08-20T14:46:18.033495Z",
     "iopub.status.idle": "2024-08-20T14:46:18.066766Z",
     "shell.execute_reply": "2024-08-20T14:46:18.065635Z"
    },
    "papermill": {
     "duration": 0.041981,
     "end_time": "2024-08-20T14:46:18.069376",
     "exception": false,
     "start_time": "2024-08-20T14:46:18.027395",
     "status": "completed"
    },
    "tags": []
   },
   "outputs": [
    {
     "data": {
      "text/html": [
       "<div>\n",
       "<style scoped>\n",
       "    .dataframe tbody tr th:only-of-type {\n",
       "        vertical-align: middle;\n",
       "    }\n",
       "\n",
       "    .dataframe tbody tr th {\n",
       "        vertical-align: top;\n",
       "    }\n",
       "\n",
       "    .dataframe thead th {\n",
       "        text-align: right;\n",
       "    }\n",
       "</style>\n",
       "<table border=\"1\" class=\"dataframe\">\n",
       "  <thead>\n",
       "    <tr style=\"text-align: right;\">\n",
       "      <th></th>\n",
       "      <th>PassengerId</th>\n",
       "      <th>HomePlanet</th>\n",
       "      <th>CryoSleep</th>\n",
       "      <th>Cabin</th>\n",
       "      <th>Destination</th>\n",
       "      <th>Age</th>\n",
       "      <th>VIP</th>\n",
       "      <th>RoomService</th>\n",
       "      <th>FoodCourt</th>\n",
       "      <th>ShoppingMall</th>\n",
       "      <th>Spa</th>\n",
       "      <th>VRDeck</th>\n",
       "      <th>Name</th>\n",
       "      <th>Transported</th>\n",
       "    </tr>\n",
       "  </thead>\n",
       "  <tbody>\n",
       "    <tr>\n",
       "      <th>0</th>\n",
       "      <td>0001_01</td>\n",
       "      <td>Europa</td>\n",
       "      <td>False</td>\n",
       "      <td>B/0/P</td>\n",
       "      <td>TRAPPIST-1e</td>\n",
       "      <td>39.0</td>\n",
       "      <td>False</td>\n",
       "      <td>0.0</td>\n",
       "      <td>0.0</td>\n",
       "      <td>0.0</td>\n",
       "      <td>0.0</td>\n",
       "      <td>0.0</td>\n",
       "      <td>Maham Ofracculy</td>\n",
       "      <td>False</td>\n",
       "    </tr>\n",
       "    <tr>\n",
       "      <th>1</th>\n",
       "      <td>0002_01</td>\n",
       "      <td>Earth</td>\n",
       "      <td>False</td>\n",
       "      <td>F/0/S</td>\n",
       "      <td>TRAPPIST-1e</td>\n",
       "      <td>24.0</td>\n",
       "      <td>False</td>\n",
       "      <td>109.0</td>\n",
       "      <td>9.0</td>\n",
       "      <td>25.0</td>\n",
       "      <td>549.0</td>\n",
       "      <td>44.0</td>\n",
       "      <td>Juanna Vines</td>\n",
       "      <td>True</td>\n",
       "    </tr>\n",
       "  </tbody>\n",
       "</table>\n",
       "</div>"
      ],
      "text/plain": [
       "  PassengerId HomePlanet CryoSleep  Cabin  Destination   Age    VIP  \\\n",
       "0     0001_01     Europa     False  B/0/P  TRAPPIST-1e  39.0  False   \n",
       "1     0002_01      Earth     False  F/0/S  TRAPPIST-1e  24.0  False   \n",
       "\n",
       "   RoomService  FoodCourt  ShoppingMall    Spa  VRDeck             Name  \\\n",
       "0          0.0        0.0           0.0    0.0     0.0  Maham Ofracculy   \n",
       "1        109.0        9.0          25.0  549.0    44.0     Juanna Vines   \n",
       "\n",
       "   Transported  \n",
       "0        False  \n",
       "1         True  "
      ]
     },
     "execution_count": 5,
     "metadata": {},
     "output_type": "execute_result"
    }
   ],
   "source": [
    "data.head(2)"
   ]
  },
  {
   "cell_type": "code",
   "execution_count": 6,
   "id": "aa615a41",
   "metadata": {
    "execution": {
     "iopub.execute_input": "2024-08-20T14:46:18.081997Z",
     "iopub.status.busy": "2024-08-20T14:46:18.080921Z",
     "iopub.status.idle": "2024-08-20T14:46:18.219469Z",
     "shell.execute_reply": "2024-08-20T14:46:18.218095Z"
    },
    "papermill": {
     "duration": 0.147842,
     "end_time": "2024-08-20T14:46:18.222297",
     "exception": false,
     "start_time": "2024-08-20T14:46:18.074455",
     "status": "completed"
    },
    "tags": []
   },
   "outputs": [],
   "source": [
    "# Data preprocessing\n",
    "\n",
    "# Drop Rows with Missing Values\n",
    "data.fillna(0, inplace=True)\n",
    "\n",
    "\n",
    "# Drop the Passenger ID Column as its the Unique Identifier\n",
    "data.drop('PassengerId', inplace=True, axis=1)\n",
    "\n",
    "\n",
    "# Convert mixed type columns to string\n",
    "for col in data.columns:\n",
    "    if data[col].dtype == 'object':\n",
    "        data[col] = data[col].astype(str)\n",
    "        \n",
    "        \n",
    "# Identify categorical columns\n",
    "categorical_cols = [col for col in data.columns if data[col].dtype == 'object']\n",
    "\n",
    "\n",
    "# Apply label encoding to categorical columns\n",
    "oe = {}\n",
    "for col in categorical_cols:\n",
    "    oe[col] = OrdinalEncoder(handle_unknown='use_encoded_value', unknown_value=-1)\n",
    "    data[col] = oe[col].fit_transform(data[col].values.reshape(-1, 1))"
   ]
  },
  {
   "cell_type": "code",
   "execution_count": 7,
   "id": "40addbb5",
   "metadata": {
    "execution": {
     "iopub.execute_input": "2024-08-20T14:46:18.234508Z",
     "iopub.status.busy": "2024-08-20T14:46:18.233779Z",
     "iopub.status.idle": "2024-08-20T14:46:18.246189Z",
     "shell.execute_reply": "2024-08-20T14:46:18.244953Z"
    },
    "papermill": {
     "duration": 0.021585,
     "end_time": "2024-08-20T14:46:18.248984",
     "exception": false,
     "start_time": "2024-08-20T14:46:18.227399",
     "status": "completed"
    },
    "tags": []
   },
   "outputs": [],
   "source": [
    "# Separating features and target\n",
    "X = data.drop('Transported', axis=1)\n",
    "y = data['Transported']\n",
    "\n",
    "# Split the data into training and testing sets\n",
    "X_train, X_test, y_train, y_test = train_test_split(X, y, test_size=0.2, random_state=42)"
   ]
  },
  {
   "cell_type": "code",
   "execution_count": 8,
   "id": "88b5e26b",
   "metadata": {
    "execution": {
     "iopub.execute_input": "2024-08-20T14:46:18.260844Z",
     "iopub.status.busy": "2024-08-20T14:46:18.260403Z",
     "iopub.status.idle": "2024-08-20T14:46:18.268223Z",
     "shell.execute_reply": "2024-08-20T14:46:18.267141Z"
    },
    "papermill": {
     "duration": 0.017006,
     "end_time": "2024-08-20T14:46:18.271066",
     "exception": false,
     "start_time": "2024-08-20T14:46:18.254060",
     "status": "completed"
    },
    "tags": []
   },
   "outputs": [
    {
     "data": {
      "text/plain": [
       "(((6954, 12), (6954,)), ((1739, 12), (1739,)))"
      ]
     },
     "execution_count": 8,
     "metadata": {},
     "output_type": "execute_result"
    }
   ],
   "source": [
    "(X_train.shape, y_train.shape), (X_test.shape, y_test.shape)"
   ]
  },
  {
   "cell_type": "code",
   "execution_count": 9,
   "id": "5bfd5280",
   "metadata": {
    "execution": {
     "iopub.execute_input": "2024-08-20T14:46:18.283321Z",
     "iopub.status.busy": "2024-08-20T14:46:18.282885Z",
     "iopub.status.idle": "2024-08-20T14:46:20.050918Z",
     "shell.execute_reply": "2024-08-20T14:46:20.049601Z"
    },
    "papermill": {
     "duration": 1.777238,
     "end_time": "2024-08-20T14:46:20.053563",
     "exception": false,
     "start_time": "2024-08-20T14:46:18.276325",
     "status": "completed"
    },
    "tags": []
   },
   "outputs": [
    {
     "name": "stdout",
     "output_type": "stream",
     "text": [
      "Accuracy: 0.77\n",
      "              precision    recall  f1-score   support\n",
      "\n",
      "       False       0.77      0.77      0.77       861\n",
      "        True       0.77      0.77      0.77       878\n",
      "\n",
      "    accuracy                           0.77      1739\n",
      "   macro avg       0.77      0.77      0.77      1739\n",
      "weighted avg       0.77      0.77      0.77      1739\n",
      "\n"
     ]
    }
   ],
   "source": [
    "from sklearn.ensemble import RandomForestClassifier\n",
    "from sklearn.metrics import accuracy_score, classification_report\n",
    "\n",
    "# Initialize the model\n",
    "model = RandomForestClassifier(random_state=42)\n",
    "\n",
    "# Train the model on the training data\n",
    "model.fit(X_train, y_train)\n",
    "\n",
    "# Make predictions on the test data\n",
    "y_pred = model.predict(X_test)\n",
    "\n",
    "# Evaluate the model\n",
    "accuracy = accuracy_score(y_test, y_pred)\n",
    "print(f\"Accuracy: {accuracy:.2f}\")\n",
    "\n",
    "# Print a detailed classification report\n",
    "print(classification_report(y_test, y_pred))"
   ]
  },
  {
   "cell_type": "code",
   "execution_count": 10,
   "id": "0425b2ab",
   "metadata": {
    "execution": {
     "iopub.execute_input": "2024-08-20T14:46:20.066106Z",
     "iopub.status.busy": "2024-08-20T14:46:20.065693Z",
     "iopub.status.idle": "2024-08-20T14:46:20.278973Z",
     "shell.execute_reply": "2024-08-20T14:46:20.277452Z"
    },
    "papermill": {
     "duration": 0.222966,
     "end_time": "2024-08-20T14:46:20.281905",
     "exception": false,
     "start_time": "2024-08-20T14:46:20.058939",
     "status": "completed"
    },
    "tags": []
   },
   "outputs": [],
   "source": [
    "# Load Submission Data\n",
    "submission_data = pd.read_csv('/kaggle/input/spaceship-titanic/test.csv')\n",
    "\n",
    "# Drop Rows with Missing Values\n",
    "submission_data.fillna(0, inplace=True)\n",
    "\n",
    "# Drop the Passenger ID Column as it's the Unique Identifier\n",
    "submission_data.drop('PassengerId', inplace=True, axis=1)\n",
    "\n",
    "# Convert mixed type columns to string\n",
    "for col in submission_data.columns:\n",
    "    if submission_data[col].dtype == 'object':\n",
    "        submission_data[col] = submission_data[col].astype(str)\n",
    "\n",
    "# Apply label encoding to the submission data\n",
    "for column, encoder in oe.items():\n",
    "    submission_data[column] = encoder.transform(submission_data[[column]])\n",
    "\n",
    "# Use the trained model to predict the 'Transported' status for the submission data\n",
    "y_pred_submission = model.predict(submission_data)\n",
    "\n",
    "# Add the predictions to the submission data\n",
    "submission_data['Transported'] = y_pred_submission\n",
    "\n",
    "# Keep only the 'PassengerId' and 'Transported' columns for submission\n",
    "submission_data = pd.read_csv('/kaggle/input/spaceship-titanic/test.csv')[['PassengerId']]\n",
    "submission_data['Transported'] = y_pred_submission\n",
    "\n",
    "# Save the results to a CSV file\n",
    "submission_data.to_csv('/kaggle/working/submission.csv', index=False, header=True)"
   ]
  }
 ],
 "metadata": {
  "kaggle": {
   "accelerator": "none",
   "dataSources": [
    {
     "databundleVersionId": 3220602,
     "sourceId": 34377,
     "sourceType": "competition"
    }
   ],
   "dockerImageVersionId": 30746,
   "isGpuEnabled": false,
   "isInternetEnabled": true,
   "language": "python",
   "sourceType": "notebook"
  },
  "kernelspec": {
   "display_name": "Python 3",
   "language": "python",
   "name": "python3"
  },
  "language_info": {
   "codemirror_mode": {
    "name": "ipython",
    "version": 3
   },
   "file_extension": ".py",
   "mimetype": "text/x-python",
   "name": "python",
   "nbconvert_exporter": "python",
   "pygments_lexer": "ipython3",
   "version": "3.10.13"
  },
  "papermill": {
   "default_parameters": {},
   "duration": 8.496491,
   "end_time": "2024-08-20T14:46:20.908720",
   "environment_variables": {},
   "exception": null,
   "input_path": "__notebook__.ipynb",
   "output_path": "__notebook__.ipynb",
   "parameters": {},
   "start_time": "2024-08-20T14:46:12.412229",
   "version": "2.5.0"
  }
 },
 "nbformat": 4,
 "nbformat_minor": 5
}
